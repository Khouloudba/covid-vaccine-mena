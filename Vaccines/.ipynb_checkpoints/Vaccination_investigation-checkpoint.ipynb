{
 "cells": [
  {
   "cell_type": "code",
   "execution_count": 32,
   "metadata": {},
   "outputs": [],
   "source": [
    "import pandas as pd\n",
    "import matplotlib.pyplot as plt\n",
    "import seaborn as sns"
   ]
  },
  {
   "cell_type": "code",
   "execution_count": 33,
   "metadata": {},
   "outputs": [
    {
     "name": "stdout",
     "output_type": "stream",
     "text": [
      "Vaccination_investigation.ipynb Vaccines-Authorized.csv\r\n",
      "Vaccine-Agreements.csv\r\n"
     ]
    }
   ],
   "source": [
    "!ls"
   ]
  },
  {
   "cell_type": "code",
   "execution_count": 34,
   "metadata": {},
   "outputs": [],
   "source": [
    "df = pd.read_csv('Vaccines-Authorized.csv')"
   ]
  },
  {
   "cell_type": "code",
   "execution_count": 35,
   "metadata": {},
   "outputs": [
    {
     "data": {
      "text/html": [
       "<div>\n",
       "<style scoped>\n",
       "    .dataframe tbody tr th:only-of-type {\n",
       "        vertical-align: middle;\n",
       "    }\n",
       "\n",
       "    .dataframe tbody tr th {\n",
       "        vertical-align: top;\n",
       "    }\n",
       "\n",
       "    .dataframe thead th {\n",
       "        text-align: right;\n",
       "    }\n",
       "</style>\n",
       "<table border=\"1\" class=\"dataframe\">\n",
       "  <thead>\n",
       "    <tr style=\"text-align: right;\">\n",
       "      <th></th>\n",
       "      <th>Country</th>\n",
       "      <th>Sputnik</th>\n",
       "      <th>Date-Authorized</th>\n",
       "      <th>Source</th>\n",
       "      <th>CNBG</th>\n",
       "      <th>Date-Authorized.1</th>\n",
       "      <th>Source.1</th>\n",
       "      <th>Pfizer-BioNTech</th>\n",
       "      <th>Date-Authorized.2</th>\n",
       "      <th>Source.2</th>\n",
       "      <th>Astrazeneca</th>\n",
       "      <th>Date-Authorized.3</th>\n",
       "      <th>Source.3</th>\n",
       "      <th>Moderna</th>\n",
       "      <th>Date-Authorized.4</th>\n",
       "      <th>Source.4</th>\n",
       "      <th>J&amp;J</th>\n",
       "      <th>Date-Authorized.5</th>\n",
       "      <th>Source.5</th>\n",
       "    </tr>\n",
       "  </thead>\n",
       "  <tbody>\n",
       "    <tr>\n",
       "      <th>0</th>\n",
       "      <td>ARE</td>\n",
       "      <td>Authorized</td>\n",
       "      <td>2021-01-21</td>\n",
       "      <td>NaN</td>\n",
       "      <td>Authorized</td>\n",
       "      <td>2020-09-15</td>\n",
       "      <td>NaN</td>\n",
       "      <td>Authorized</td>\n",
       "      <td>2020-12-23</td>\n",
       "      <td>NaN</td>\n",
       "      <td>Authorized</td>\n",
       "      <td>2021-02-02</td>\n",
       "      <td>NaN</td>\n",
       "      <td>Not-Authorized</td>\n",
       "      <td>NaN</td>\n",
       "      <td>NaN</td>\n",
       "      <td>Not-Authorized</td>\n",
       "      <td>NaN</td>\n",
       "      <td>NaN</td>\n",
       "    </tr>\n",
       "    <tr>\n",
       "      <th>1</th>\n",
       "      <td>BHR</td>\n",
       "      <td>Authorized</td>\n",
       "      <td>2021-02-10</td>\n",
       "      <td>NaN</td>\n",
       "      <td>Authorized</td>\n",
       "      <td>2020-12-13</td>\n",
       "      <td>NaN</td>\n",
       "      <td>Authorized</td>\n",
       "      <td>2020-12-04</td>\n",
       "      <td>NaN</td>\n",
       "      <td>Authorized</td>\n",
       "      <td>2021-01-27</td>\n",
       "      <td>NaN</td>\n",
       "      <td>Not-Authorized</td>\n",
       "      <td>NaN</td>\n",
       "      <td>NaN</td>\n",
       "      <td>Authorized</td>\n",
       "      <td>2021-02-25</td>\n",
       "      <td>NaN</td>\n",
       "    </tr>\n",
       "    <tr>\n",
       "      <th>2</th>\n",
       "      <td>DZA</td>\n",
       "      <td>Authorized</td>\n",
       "      <td>2021-01-10</td>\n",
       "      <td>NaN</td>\n",
       "      <td>Not-Authorized</td>\n",
       "      <td>NaN</td>\n",
       "      <td>NaN</td>\n",
       "      <td>Not-Authorized</td>\n",
       "      <td>NaN</td>\n",
       "      <td>NaN</td>\n",
       "      <td>Not-Authorized</td>\n",
       "      <td>NaN</td>\n",
       "      <td>NaN</td>\n",
       "      <td>Not-Authorized</td>\n",
       "      <td>NaN</td>\n",
       "      <td>NaN</td>\n",
       "      <td>Not-Authorized</td>\n",
       "      <td>NaN</td>\n",
       "      <td>NaN</td>\n",
       "    </tr>\n",
       "    <tr>\n",
       "      <th>3</th>\n",
       "      <td>EGY</td>\n",
       "      <td>Authorized</td>\n",
       "      <td>2021-02-24</td>\n",
       "      <td>NaN</td>\n",
       "      <td>Authorized</td>\n",
       "      <td>2021-01-04</td>\n",
       "      <td>NaN</td>\n",
       "      <td>Not-Authorized</td>\n",
       "      <td>NaN</td>\n",
       "      <td>NaN</td>\n",
       "      <td>Authorized</td>\n",
       "      <td>2021-02-01</td>\n",
       "      <td>NaN</td>\n",
       "      <td>Not-Authorized</td>\n",
       "      <td>NaN</td>\n",
       "      <td>NaN</td>\n",
       "      <td>Not-Authorized</td>\n",
       "      <td>NaN</td>\n",
       "      <td>NaN</td>\n",
       "    </tr>\n",
       "    <tr>\n",
       "      <th>4</th>\n",
       "      <td>IRQ</td>\n",
       "      <td>Not-Authorized</td>\n",
       "      <td>NaN</td>\n",
       "      <td>NaN</td>\n",
       "      <td>Authorized</td>\n",
       "      <td>2021-01-19</td>\n",
       "      <td>NaN</td>\n",
       "      <td>Authorized</td>\n",
       "      <td>2020-12-27</td>\n",
       "      <td>NaN</td>\n",
       "      <td>Authorized</td>\n",
       "      <td>2021-01-19</td>\n",
       "      <td>NaN</td>\n",
       "      <td>Not-Authorized</td>\n",
       "      <td>NaN</td>\n",
       "      <td>NaN</td>\n",
       "      <td>Not-Authorized</td>\n",
       "      <td>NaN</td>\n",
       "      <td>NaN</td>\n",
       "    </tr>\n",
       "  </tbody>\n",
       "</table>\n",
       "</div>"
      ],
      "text/plain": [
       "  Country         Sputnik Date-Authorized  Source            CNBG  \\\n",
       "0     ARE      Authorized      2021-01-21     NaN      Authorized   \n",
       "1     BHR      Authorized      2021-02-10     NaN      Authorized   \n",
       "2     DZA      Authorized      2021-01-10     NaN  Not-Authorized   \n",
       "3     EGY      Authorized      2021-02-24     NaN      Authorized   \n",
       "4     IRQ  Not-Authorized             NaN     NaN      Authorized   \n",
       "\n",
       "  Date-Authorized.1  Source.1 Pfizer-BioNTech Date-Authorized.2  Source.2  \\\n",
       "0        2020-09-15       NaN      Authorized        2020-12-23       NaN   \n",
       "1        2020-12-13       NaN      Authorized        2020-12-04       NaN   \n",
       "2               NaN       NaN  Not-Authorized               NaN       NaN   \n",
       "3        2021-01-04       NaN  Not-Authorized               NaN       NaN   \n",
       "4        2021-01-19       NaN      Authorized        2020-12-27       NaN   \n",
       "\n",
       "      Astrazeneca Date-Authorized.3  Source.3         Moderna  \\\n",
       "0      Authorized        2021-02-02       NaN  Not-Authorized   \n",
       "1      Authorized        2021-01-27       NaN  Not-Authorized   \n",
       "2  Not-Authorized               NaN       NaN  Not-Authorized   \n",
       "3      Authorized        2021-02-01       NaN  Not-Authorized   \n",
       "4      Authorized        2021-01-19       NaN  Not-Authorized   \n",
       "\n",
       "  Date-Authorized.4  Source.4             J&J Date-Authorized.5  Source.5  \n",
       "0               NaN       NaN  Not-Authorized               NaN       NaN  \n",
       "1               NaN       NaN      Authorized        2021-02-25       NaN  \n",
       "2               NaN       NaN  Not-Authorized               NaN       NaN  \n",
       "3               NaN       NaN  Not-Authorized               NaN       NaN  \n",
       "4               NaN       NaN  Not-Authorized               NaN       NaN  "
      ]
     },
     "execution_count": 35,
     "metadata": {},
     "output_type": "execute_result"
    }
   ],
   "source": [
    "df.head()"
   ]
  },
  {
   "cell_type": "code",
   "execution_count": 36,
   "metadata": {},
   "outputs": [
    {
     "data": {
      "text/plain": [
       "Index(['Country', 'Sputnik', 'Date-Authorized', 'Source', 'CNBG',\n",
       "       'Date-Authorized.1', 'Source.1', 'Pfizer-BioNTech', 'Date-Authorized.2',\n",
       "       'Source.2', 'Astrazeneca', 'Date-Authorized.3', 'Source.3', 'Moderna',\n",
       "       'Date-Authorized.4', 'Source.4', 'J&J', 'Date-Authorized.5',\n",
       "       'Source.5'],\n",
       "      dtype='object')"
      ]
     },
     "execution_count": 36,
     "metadata": {},
     "output_type": "execute_result"
    }
   ],
   "source": [
    "df.columns"
   ]
  },
  {
   "cell_type": "code",
   "execution_count": 37,
   "metadata": {},
   "outputs": [],
   "source": [
    "#df = df.drop([\"Source\"], axis = 1) \n",
    "#df = df.drop([\"Source.1\"], axis = 1) \n",
    "#df = df.drop([\"Source.2\"], axis = 1) \n",
    "#df = df.drop([\"Source.3\"], axis = 1) \n",
    "#df = df.drop([\"Source.4\"], axis = 1) "
   ]
  },
  {
   "cell_type": "code",
   "execution_count": 38,
   "metadata": {},
   "outputs": [
    {
     "data": {
      "text/plain": [
       "Index(['Country', 'Sputnik', 'Date-Authorized', 'CNBG', 'Date-Authorized.1',\n",
       "       'Pfizer-BioNTech', 'Date-Authorized.2', 'Astrazeneca',\n",
       "       'Date-Authorized.3', 'Moderna', 'Date-Authorized.4', 'J&J',\n",
       "       'Date-Authorized.5', 'Source.5'],\n",
       "      dtype='object')"
      ]
     },
     "execution_count": 38,
     "metadata": {},
     "output_type": "execute_result"
    }
   ],
   "source": [
    "df.columns"
   ]
  },
  {
   "cell_type": "code",
   "execution_count": 39,
   "metadata": {},
   "outputs": [
    {
     "name": "stdout",
     "output_type": "stream",
     "text": [
      "Which vaccine ? Sputnik\n"
     ]
    }
   ],
   "source": [
    "vaccine = input('From Which vaccine do you want to collect data ? ')"
   ]
  },
  {
   "cell_type": "code",
   "execution_count": 42,
   "metadata": {},
   "outputs": [
    {
     "name": "stderr",
     "output_type": "stream",
     "text": [
      "<ipython-input-42-930958c5318e>:3: FutureWarning: Indexing with multiple keys (implicitly converted to a tuple of keys) will be deprecated, use a list instead.\n",
      "  df_new=df.groupby([str(vaccine)])['Country', 'Date-Authorized']\n"
     ]
    }
   ],
   "source": [
    "if vaccine == 'Sputnik':\n",
    "\n",
    "    df_new=df.groupby([str(vaccine)])['Country', 'Date-Authorized']\n",
    "    df_new.head()\n",
    "\n",
    "elif  vaccine == 'CNBG':\n",
    "    \n",
    "    df_new=df.groupby([str(vaccine)])['Country', 'Date-Authorized.1']\n",
    "    df_new.head()\n",
    "    \n",
    "elif  vaccine == 'Pfizer-BioNTech':   \n",
    "    \n",
    "    df_new=df.groupby([str(vaccine)])['Country', 'Date-Authorized.2']\n",
    "    df_new.head()\n",
    "    \n",
    "elif  vaccine == 'Astrazeneca':\n",
    "    \n",
    "    df_new=df.groupby([str(vaccine)])['Country', 'Date-Authorized.3']\n",
    "    df_new.head()\n",
    "    \n",
    "else:\n",
    "    \n",
    "    df_new=df.groupby([str(vaccine)])['Country', 'Date-Authorized.4']\n",
    "    df_new.head()"
   ]
  },
  {
   "cell_type": "code",
   "execution_count": 43,
   "metadata": {},
   "outputs": [
    {
     "data": {
      "text/html": [
       "<div>\n",
       "<style scoped>\n",
       "    .dataframe tbody tr th:only-of-type {\n",
       "        vertical-align: middle;\n",
       "    }\n",
       "\n",
       "    .dataframe tbody tr th {\n",
       "        vertical-align: top;\n",
       "    }\n",
       "\n",
       "    .dataframe thead th {\n",
       "        text-align: right;\n",
       "    }\n",
       "</style>\n",
       "<table border=\"1\" class=\"dataframe\">\n",
       "  <thead>\n",
       "    <tr style=\"text-align: right;\">\n",
       "      <th></th>\n",
       "      <th>Country</th>\n",
       "      <th>Date-Authorized</th>\n",
       "    </tr>\n",
       "  </thead>\n",
       "  <tbody>\n",
       "    <tr>\n",
       "      <th>0</th>\n",
       "      <td>ARE</td>\n",
       "      <td>2021-01-21</td>\n",
       "    </tr>\n",
       "    <tr>\n",
       "      <th>1</th>\n",
       "      <td>BHR</td>\n",
       "      <td>2021-02-10</td>\n",
       "    </tr>\n",
       "    <tr>\n",
       "      <th>2</th>\n",
       "      <td>DZA</td>\n",
       "      <td>2021-01-10</td>\n",
       "    </tr>\n",
       "    <tr>\n",
       "      <th>3</th>\n",
       "      <td>EGY</td>\n",
       "      <td>2021-02-24</td>\n",
       "    </tr>\n",
       "    <tr>\n",
       "      <th>4</th>\n",
       "      <td>IRQ</td>\n",
       "      <td>NaN</td>\n",
       "    </tr>\n",
       "    <tr>\n",
       "      <th>5</th>\n",
       "      <td>ISR</td>\n",
       "      <td>NaN</td>\n",
       "    </tr>\n",
       "    <tr>\n",
       "      <th>6</th>\n",
       "      <td>JOR</td>\n",
       "      <td>NaN</td>\n",
       "    </tr>\n",
       "    <tr>\n",
       "      <th>7</th>\n",
       "      <td>KWT</td>\n",
       "      <td>NaN</td>\n",
       "    </tr>\n",
       "    <tr>\n",
       "      <th>8</th>\n",
       "      <td>LBN</td>\n",
       "      <td>2021-02-05</td>\n",
       "    </tr>\n",
       "    <tr>\n",
       "      <th>9</th>\n",
       "      <td>LBY</td>\n",
       "      <td>NaN</td>\n",
       "    </tr>\n",
       "  </tbody>\n",
       "</table>\n",
       "</div>"
      ],
      "text/plain": [
       "  Country Date-Authorized\n",
       "0     ARE      2021-01-21\n",
       "1     BHR      2021-02-10\n",
       "2     DZA      2021-01-10\n",
       "3     EGY      2021-02-24\n",
       "4     IRQ             NaN\n",
       "5     ISR             NaN\n",
       "6     JOR             NaN\n",
       "7     KWT             NaN\n",
       "8     LBN      2021-02-05\n",
       "9     LBY             NaN"
      ]
     },
     "execution_count": 43,
     "metadata": {},
     "output_type": "execute_result"
    }
   ],
   "source": [
    "df_new.head()"
   ]
  },
  {
   "cell_type": "code",
   "execution_count": null,
   "metadata": {},
   "outputs": [],
   "source": []
  }
 ],
 "metadata": {
  "kernelspec": {
   "display_name": "Python 3",
   "language": "python",
   "name": "python3"
  },
  "language_info": {
   "codemirror_mode": {
    "name": "ipython",
    "version": 3
   },
   "file_extension": ".py",
   "mimetype": "text/x-python",
   "name": "python",
   "nbconvert_exporter": "python",
   "pygments_lexer": "ipython3",
   "version": "3.8.5"
  }
 },
 "nbformat": 4,
 "nbformat_minor": 4
}
